{
 "cells": [
  {
   "cell_type": "code",
   "execution_count": 2,
   "id": "2504a3a8-28b7-4af6-af36-9deed3296d54",
   "metadata": {},
   "outputs": [],
   "source": [
    "#printing the length of string"
   ]
  },
  {
   "cell_type": "code",
   "execution_count": 3,
   "id": "8a1741cb-e562-4074-847d-ccc1ef242d65",
   "metadata": {},
   "outputs": [],
   "source": [
    "s=\"python\""
   ]
  },
  {
   "cell_type": "code",
   "execution_count": 4,
   "id": "64bde826-bed8-42d1-a6f2-af6af3ca071c",
   "metadata": {},
   "outputs": [
    {
     "data": {
      "text/plain": [
       "str"
      ]
     },
     "execution_count": 4,
     "metadata": {},
     "output_type": "execute_result"
    }
   ],
   "source": [
    "type(s)"
   ]
  },
  {
   "cell_type": "code",
   "execution_count": 6,
   "id": "84a4f496-3c96-45b4-abce-23595bf8e098",
   "metadata": {},
   "outputs": [
    {
     "data": {
      "text/plain": [
       "6"
      ]
     },
     "execution_count": 6,
     "metadata": {},
     "output_type": "execute_result"
    }
   ],
   "source": [
    "len(s)"
   ]
  },
  {
   "cell_type": "code",
   "execution_count": 7,
   "id": "c88f8d24-1429-4d05-91c8-b999ae845a1d",
   "metadata": {},
   "outputs": [],
   "source": [
    "#reversing a string"
   ]
  },
  {
   "cell_type": "code",
   "execution_count": 8,
   "id": "7fc34d45-9260-44bf-bfec-7840f6884935",
   "metadata": {},
   "outputs": [],
   "source": [
    "s1=\"pw skills\""
   ]
  },
  {
   "cell_type": "code",
   "execution_count": 9,
   "id": "d3c8a04b-e560-46da-aa58-a8a53e667ab3",
   "metadata": {},
   "outputs": [
    {
     "data": {
      "text/plain": [
       "'s'"
      ]
     },
     "execution_count": 9,
     "metadata": {},
     "output_type": "execute_result"
    }
   ],
   "source": [
    "s1[-1]"
   ]
  },
  {
   "cell_type": "code",
   "execution_count": 10,
   "id": "9000f92e-6fe3-448c-b6b5-7065f7847cac",
   "metadata": {},
   "outputs": [
    {
     "data": {
      "text/plain": [
       "'slliks wp'"
      ]
     },
     "execution_count": 10,
     "metadata": {},
     "output_type": "execute_result"
    }
   ],
   "source": [
    "s1[::-1]"
   ]
  },
  {
   "cell_type": "code",
   "execution_count": 18,
   "id": "1b241362-67c7-471e-ab69-8f990c656e0f",
   "metadata": {},
   "outputs": [],
   "source": [
    "#swaping variables"
   ]
  },
  {
   "cell_type": "code",
   "execution_count": 19,
   "id": "e5bdb0c0-58ed-4782-a1dd-8b0acb3bbdd7",
   "metadata": {},
   "outputs": [],
   "source": [
    "x,y=2,3"
   ]
  },
  {
   "cell_type": "code",
   "execution_count": 20,
   "id": "e6caa68e-6886-4323-afb5-377ae50afd2b",
   "metadata": {},
   "outputs": [
    {
     "data": {
      "text/plain": [
       "2"
      ]
     },
     "execution_count": 20,
     "metadata": {},
     "output_type": "execute_result"
    }
   ],
   "source": [
    "x"
   ]
  },
  {
   "cell_type": "code",
   "execution_count": 21,
   "id": "a7f1727d-862f-4ff4-8130-63ba44be57b2",
   "metadata": {},
   "outputs": [
    {
     "data": {
      "text/plain": [
       "3"
      ]
     },
     "execution_count": 21,
     "metadata": {},
     "output_type": "execute_result"
    }
   ],
   "source": [
    "y"
   ]
  },
  {
   "cell_type": "code",
   "execution_count": 22,
   "id": "2d360b3b-62b8-4241-a451-784b5684653d",
   "metadata": {},
   "outputs": [],
   "source": [
    "x,y=y,x"
   ]
  },
  {
   "cell_type": "code",
   "execution_count": 23,
   "id": "7247c3c3-cbd3-4783-9d54-0a58ce2524da",
   "metadata": {},
   "outputs": [
    {
     "data": {
      "text/plain": [
       "3"
      ]
     },
     "execution_count": 23,
     "metadata": {},
     "output_type": "execute_result"
    }
   ],
   "source": [
    "x"
   ]
  },
  {
   "cell_type": "code",
   "execution_count": 24,
   "id": "012aff91-f3d0-43a0-bda6-751145194fc5",
   "metadata": {},
   "outputs": [
    {
     "data": {
      "text/plain": [
       "2"
      ]
     },
     "execution_count": 24,
     "metadata": {},
     "output_type": "execute_result"
    }
   ],
   "source": [
    "y"
   ]
  },
  {
   "cell_type": "code",
   "execution_count": 25,
   "id": "88753635-d90a-4f81-b200-c7a0e462963a",
   "metadata": {},
   "outputs": [],
   "source": [
    "#area of triangle"
   ]
  },
  {
   "cell_type": "code",
   "execution_count": 28,
   "id": "a9a3821e-67f2-458d-b98f-c2b5d813a946",
   "metadata": {},
   "outputs": [],
   "source": [
    "#height as b=10, base as a=5"
   ]
  },
  {
   "cell_type": "code",
   "execution_count": 29,
   "id": "541addf2-4856-48f1-b236-6006a184abc0",
   "metadata": {},
   "outputs": [],
   "source": [
    "b=10"
   ]
  },
  {
   "cell_type": "code",
   "execution_count": 30,
   "id": "cc2ce08a-732b-42f0-a1b2-642854973782",
   "metadata": {},
   "outputs": [],
   "source": [
    "a=5"
   ]
  },
  {
   "cell_type": "code",
   "execution_count": 31,
   "id": "fb526e02-b28b-471a-b419-9840fb8685dc",
   "metadata": {},
   "outputs": [
    {
     "data": {
      "text/plain": [
       "50"
      ]
     },
     "execution_count": 31,
     "metadata": {},
     "output_type": "execute_result"
    }
   ],
   "source": [
    "b*a"
   ]
  },
  {
   "cell_type": "code",
   "execution_count": 34,
   "id": "60e0fa79-2916-4397-8fc4-13b93bf72289",
   "metadata": {},
   "outputs": [],
   "source": [
    "#formulae (1/2)*(b*h)"
   ]
  },
  {
   "cell_type": "code",
   "execution_count": 35,
   "id": "92db999e-0192-4fef-898a-c59f45f5ac17",
   "metadata": {},
   "outputs": [
    {
     "data": {
      "text/plain": [
       "25.0"
      ]
     },
     "execution_count": 35,
     "metadata": {},
     "output_type": "execute_result"
    }
   ],
   "source": [
    "(b*a)/2"
   ]
  },
  {
   "cell_type": "code",
   "execution_count": 36,
   "id": "ab719ad1-48ad-4159-9c12-74be27ec4076",
   "metadata": {},
   "outputs": [],
   "source": [
    "#converting celsius to fahrenheit"
   ]
  },
  {
   "cell_type": "code",
   "execution_count": 37,
   "id": "e9e8fad2-dba8-4994-a691-d52ef41db2e3",
   "metadata": {},
   "outputs": [],
   "source": [
    "#temp in degree fahrenhit=[temp in degree celsius*(9/5)]+32"
   ]
  },
  {
   "cell_type": "code",
   "execution_count": 38,
   "id": "a4db7048-9acc-49bf-9e06-fbfa558b0fa4",
   "metadata": {},
   "outputs": [],
   "source": [
    "t=27"
   ]
  },
  {
   "cell_type": "code",
   "execution_count": 40,
   "id": "9c0d9564-11a0-4258-978b-d7c1db4b04d3",
   "metadata": {},
   "outputs": [],
   "source": [
    "a=(9/5)"
   ]
  },
  {
   "cell_type": "code",
   "execution_count": 41,
   "id": "55db7e82-89c1-4af2-a172-fe343342dc31",
   "metadata": {},
   "outputs": [
    {
     "data": {
      "text/plain": [
       "48.6"
      ]
     },
     "execution_count": 41,
     "metadata": {},
     "output_type": "execute_result"
    }
   ],
   "source": [
    "t*a"
   ]
  },
  {
   "cell_type": "code",
   "execution_count": 42,
   "id": "43965727-239f-4686-b4f2-e5690e444fc2",
   "metadata": {},
   "outputs": [
    {
     "data": {
      "text/plain": [
       "80.6"
      ]
     },
     "execution_count": 42,
     "metadata": {},
     "output_type": "execute_result"
    }
   ],
   "source": [
    "(t*a)+32"
   ]
  },
  {
   "cell_type": "code",
   "execution_count": 43,
   "id": "6a21d5d1-c3d4-4a4c-a628-ae2c0e59ee2d",
   "metadata": {},
   "outputs": [],
   "source": [
    "#removing white spaces"
   ]
  },
  {
   "cell_type": "code",
   "execution_count": 44,
   "id": "b6adaf65-6025-452f-b69f-bdec74dbb68e",
   "metadata": {},
   "outputs": [],
   "source": [
    "x=\" pw  skills  \""
   ]
  },
  {
   "cell_type": "code",
   "execution_count": 54,
   "id": "7dc33cc5-7f20-4002-8fd5-fa4d403925ba",
   "metadata": {},
   "outputs": [
    {
     "data": {
      "text/plain": [
       "' pw  skills  '"
      ]
     },
     "execution_count": 54,
     "metadata": {},
     "output_type": "execute_result"
    }
   ],
   "source": [
    "x.replace(\" \",\" \")"
   ]
  },
  {
   "cell_type": "code",
   "execution_count": null,
   "id": "78fcc61d-ad25-4ea4-a7d7-398e03b7d514",
   "metadata": {},
   "outputs": [],
   "source": []
  }
 ],
 "metadata": {
  "kernelspec": {
   "display_name": "Python 3 (ipykernel)",
   "language": "python",
   "name": "python3"
  },
  "language_info": {
   "codemirror_mode": {
    "name": "ipython",
    "version": 3
   },
   "file_extension": ".py",
   "mimetype": "text/x-python",
   "name": "python",
   "nbconvert_exporter": "python",
   "pygments_lexer": "ipython3",
   "version": "3.10.8"
  }
 },
 "nbformat": 4,
 "nbformat_minor": 5
}
